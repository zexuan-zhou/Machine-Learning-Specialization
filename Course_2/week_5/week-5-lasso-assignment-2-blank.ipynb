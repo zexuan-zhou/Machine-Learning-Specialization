{
 "cells": [
  {
   "cell_type": "markdown",
   "metadata": {},
   "source": [
    "# Regression Week 5: LASSO (coordinate descent)"
   ]
  },
  {
   "cell_type": "markdown",
   "metadata": {},
   "source": [
    "In this notebook, you will implement your very own LASSO solver via coordinate descent. You will:\n",
    "* Write a function to normalize features\n",
    "* Implement coordinate descent for LASSO\n",
    "* Explore effects of L1 penalty"
   ]
  },
  {
   "cell_type": "markdown",
   "metadata": {},
   "source": [
    "# Fire up graphlab create"
   ]
  },
  {
   "cell_type": "markdown",
   "metadata": {},
   "source": [
    "Make sure you have the latest version of graphlab (>= 1.7)"
   ]
  },
  {
   "cell_type": "code",
   "execution_count": 4,
   "metadata": {
    "collapsed": false
   },
   "outputs": [],
   "source": [
    "import graphlab"
   ]
  },
  {
   "cell_type": "markdown",
   "metadata": {},
   "source": [
    "# Load in house sales data\n",
    "\n",
    "Dataset is from house sales in King County, the region where the city of Seattle, WA is located."
   ]
  },
  {
   "cell_type": "code",
   "execution_count": 5,
   "metadata": {
    "collapsed": false
   },
   "outputs": [
    {
     "name": "stderr",
     "output_type": "stream",
     "text": [
      "[INFO] graphlab.cython.cy_server: GraphLab Create v2.1 started. Logging: C:\\Users\\Zexuan\\AppData\\Local\\Temp\\graphlab_server_1484386177.log.0\n"
     ]
    },
    {
     "name": "stdout",
     "output_type": "stream",
     "text": [
      "This non-commercial license of GraphLab Create for academic use is assigned to zexuanz@uw.edu and will expire on December 21, 2017.\n"
     ]
    }
   ],
   "source": [
    "sales = graphlab.SFrame('kc_house_data.gl/')\n",
    "# In the dataset, 'floors' was defined with type string, \n",
    "# so we'll convert them to int, before using it below\n",
    "sales['floors'] = sales['floors'].astype(int) "
   ]
  },
  {
   "cell_type": "markdown",
   "metadata": {},
   "source": [
    "If we want to do any \"feature engineering\" like creating new features or adjusting existing ones we should do this directly using the SFrames as seen in the first notebook of Week 2. For this notebook, however, we will work with the existing features."
   ]
  },
  {
   "cell_type": "markdown",
   "metadata": {},
   "source": [
    "# Import useful functions from previous notebook"
   ]
  },
  {
   "cell_type": "markdown",
   "metadata": {},
   "source": [
    "As in Week 2, we convert the SFrame into a 2D Numpy array. Copy and paste `get_num_data()` from the second notebook of Week 2."
   ]
  },
  {
   "cell_type": "code",
   "execution_count": 6,
   "metadata": {
    "collapsed": true
   },
   "outputs": [],
   "source": [
    "import numpy as np # note this allows us to refer to numpy as np instead "
   ]
  },
  {
   "cell_type": "code",
   "execution_count": 7,
   "metadata": {
    "collapsed": true
   },
   "outputs": [],
   "source": [
    "def get_numpy_data(data_sframe, features, output):\n",
    "    data_sframe['constant'] = 1 # this is how you add a constant column to an SFrame\n",
    "    # add the column 'constant' to the front of the features list so that we can extract it along with the others:\n",
    "    features = ['constant'] + features # this is how you combine two lists\n",
    "    # select the columns of data_SFrame given by the features list into the SFrame features_sframe (now including constant):\n",
    "    features_sframe = graphlab.SFrame(data = data_sframe[features])\n",
    "    # the following line will convert the features_SFrame into a numpy matrix:\n",
    "    feature_matrix = features_sframe.to_numpy()\n",
    "    # assign the column of data_sframe associated with the output to the SArray output_sarray\n",
    "    output_sarray = graphlab.SArray(data = data_sframe[output])\n",
    "    # the following will convert the SArray into a numpy array by first converting it to a list\n",
    "    output_array = output_sarray.to_numpy()\n",
    "    return(feature_matrix, output_array)"
   ]
  },
  {
   "cell_type": "markdown",
   "metadata": {},
   "source": [
    "Also, copy and paste the `predict_output()` function to compute the predictions for an entire matrix of features given the matrix and the weights:"
   ]
  },
  {
   "cell_type": "code",
   "execution_count": 8,
   "metadata": {
    "collapsed": true
   },
   "outputs": [],
   "source": [
    "def predict_output(feature_matrix, weights):\n",
    "    # assume feature_matrix is a numpy matrix containing the features as columns and weights is a corresponding numpy array\n",
    "    # create the predictions vector by using np.dot()\n",
    "    predictions = np.dot(feature_matrix, weights)\n",
    "    return(predictions)"
   ]
  },
  {
   "cell_type": "markdown",
   "metadata": {},
   "source": [
    "# Normalize features\n",
    "In the house dataset, features vary wildly in their relative magnitude: `sqft_living` is very large overall compared to `bedrooms`, for instance. As a result, weight for `sqft_living` would be much smaller than weight for `bedrooms`. This is problematic because \"small\" weights are dropped first as `l1_penalty` goes up. \n",
    "\n",
    "To give equal considerations for all features, we need to **normalize features** as discussed in the lectures: we divide each feature by its 2-norm so that the transformed feature has norm 1.\n",
    "\n",
    "Let's see how we can do this normalization easily with Numpy: let us first consider a small matrix."
   ]
  },
  {
   "cell_type": "code",
   "execution_count": 6,
   "metadata": {
    "collapsed": false
   },
   "outputs": [
    {
     "name": "stdout",
     "output_type": "stream",
     "text": [
      "[[  3.   5.   8.]\n",
      " [  4.  12.  15.]]\n"
     ]
    }
   ],
   "source": [
    "X = np.array([[3.,5.,8.],[4.,12.,15.]])\n",
    "print X"
   ]
  },
  {
   "cell_type": "markdown",
   "metadata": {},
   "source": [
    "Numpy provides a shorthand for computing 2-norms of each column:"
   ]
  },
  {
   "cell_type": "code",
   "execution_count": 7,
   "metadata": {
    "collapsed": false
   },
   "outputs": [
    {
     "name": "stdout",
     "output_type": "stream",
     "text": [
      "[  5.  13.  17.]\n"
     ]
    }
   ],
   "source": [
    "norms = np.linalg.norm(X, axis=0) # gives [norm(X[:,0]), norm(X[:,1]), norm(X[:,2])]\n",
    "print norms"
   ]
  },
  {
   "cell_type": "markdown",
   "metadata": {},
   "source": [
    "To normalize, apply element-wise division:"
   ]
  },
  {
   "cell_type": "code",
   "execution_count": 8,
   "metadata": {
    "collapsed": false
   },
   "outputs": [
    {
     "name": "stdout",
     "output_type": "stream",
     "text": [
      "[[ 0.6         0.38461538  0.47058824]\n",
      " [ 0.8         0.92307692  0.88235294]]\n"
     ]
    }
   ],
   "source": [
    "print X / norms # gives [X[:,0]/norm(X[:,0]), X[:,1]/norm(X[:,1]), X[:,2]/norm(X[:,2])]"
   ]
  },
  {
   "cell_type": "markdown",
   "metadata": {},
   "source": [
    "Using the shorthand we just covered, write a short function called `normalize_features(feature_matrix)`, which normalizes columns of a given feature matrix. The function should return a pair `(normalized_features, norms)`, where the second item contains the norms of original features. As discussed in the lectures, we will use these norms to normalize the test data in the same way as we normalized the training data. "
   ]
  },
  {
   "cell_type": "code",
   "execution_count": 9,
   "metadata": {
    "collapsed": true
   },
   "outputs": [],
   "source": [
    "def normalize_features(feature_matrix):\n",
    "    norms = np.linalg.norm(feature_matrix, axis=0)\n",
    "    features = feature_matrix/norms\n",
    "    return(features, norms)"
   ]
  },
  {
   "cell_type": "markdown",
   "metadata": {},
   "source": [
    "To test the function, run the following:"
   ]
  },
  {
   "cell_type": "code",
   "execution_count": 10,
   "metadata": {
    "collapsed": false
   },
   "outputs": [
    {
     "name": "stdout",
     "output_type": "stream",
     "text": [
      "[[ 0.6  0.6  0.6]\n",
      " [ 0.8  0.8  0.8]]\n",
      "[  5.  10.  15.]\n"
     ]
    }
   ],
   "source": [
    "features, norms = normalize_features(np.array([[3.,6.,9.],[4.,8.,12.]]))\n",
    "print features\n",
    "# should print\n",
    "# [[ 0.6  0.6  0.6]\n",
    "#  [ 0.8  0.8  0.8]]\n",
    "print norms\n",
    "# should print\n",
    "# [5.  10.  15.]"
   ]
  },
  {
   "cell_type": "markdown",
   "metadata": {},
   "source": [
    "# Implementing Coordinate Descent with normalized features"
   ]
  },
  {
   "cell_type": "markdown",
   "metadata": {},
   "source": [
    "We seek to obtain a sparse set of weights by minimizing the LASSO cost function\n",
    "```\n",
    "SUM[ (prediction - output)^2 ] + lambda*( |w[1]| + ... + |w[k]|).\n",
    "```\n",
    "(By convention, we do not include `w[0]` in the L1 penalty term. We never want to push the intercept to zero.)\n",
    "\n",
    "The absolute value sign makes the cost function non-differentiable, so simple gradient descent is not viable (you would need to implement a method called subgradient descent). Instead, we will use **coordinate descent**: at each iteration, we will fix all weights but weight `i` and find the value of weight `i` that minimizes the objective. That is, we look for\n",
    "```\n",
    "argmin_{w[i]} [ SUM[ (prediction - output)^2 ] + lambda*( |w[1]| + ... + |w[k]|) ]\n",
    "```\n",
    "where all weights other than `w[i]` are held to be constant. We will optimize one `w[i]` at a time, circling through the weights multiple times.  \n",
    "  1. Pick a coordinate `i`\n",
    "  2. Compute `w[i]` that minimizes the cost function `SUM[ (prediction - output)^2 ] + lambda*( |w[1]| + ... + |w[k]|)`\n",
    "  3. Repeat Steps 1 and 2 for all coordinates, multiple times"
   ]
  },
  {
   "cell_type": "markdown",
   "metadata": {},
   "source": [
    "For this notebook, we use **cyclical coordinate descent with normalized features**, where we cycle through coordinates 0 to (d-1) in order, and assume the features were normalized as discussed above. The formula for optimizing each coordinate is as follows:\n",
    "```\n",
    "       ┌ (ro[i] + lambda/2)     if ro[i] < -lambda/2\n",
    "w[i] = ├ 0                      if -lambda/2 <= ro[i] <= lambda/2\n",
    "       └ (ro[i] - lambda/2)     if ro[i] > lambda/2\n",
    "```\n",
    "where\n",
    "```\n",
    "ro[i] = SUM[ [feature_i]*(output - prediction + w[i]*[feature_i]) ].\n",
    "```\n",
    "\n",
    "Note that we do not regularize the weight of the constant feature (intercept) `w[0]`, so, for this weight, the update is simply:\n",
    "```\n",
    "w[0] = ro[i]\n",
    "```"
   ]
  },
  {
   "cell_type": "markdown",
   "metadata": {},
   "source": [
    "## Effect of L1 penalty"
   ]
  },
  {
   "cell_type": "markdown",
   "metadata": {},
   "source": [
    "Let us consider a simple model with 2 features:"
   ]
  },
  {
   "cell_type": "code",
   "execution_count": 263,
   "metadata": {
    "collapsed": true
   },
   "outputs": [],
   "source": [
    "simple_features = ['sqft_living', 'bedrooms']\n",
    "my_output = 'price'\n",
    "(simple_feature_matrix, output) = get_numpy_data(sales, simple_features, my_output)"
   ]
  },
  {
   "cell_type": "markdown",
   "metadata": {},
   "source": [
    "Don't forget to normalize features:"
   ]
  },
  {
   "cell_type": "code",
   "execution_count": 265,
   "metadata": {
    "collapsed": true
   },
   "outputs": [],
   "source": [
    "simple_feature_matrix, norms = normalize_features(simple_feature_matrix)"
   ]
  },
  {
   "cell_type": "markdown",
   "metadata": {},
   "source": [
    "We assign some random set of initial weights and inspect the values of `ro[i]`:"
   ]
  },
  {
   "cell_type": "code",
   "execution_count": 266,
   "metadata": {
    "collapsed": false
   },
   "outputs": [],
   "source": [
    "weights = np.array([1., 4., 1.])"
   ]
  },
  {
   "cell_type": "markdown",
   "metadata": {},
   "source": [
    "Use `predict_output()` to make predictions on this data."
   ]
  },
  {
   "cell_type": "code",
   "execution_count": 267,
   "metadata": {
    "collapsed": false
   },
   "outputs": [],
   "source": [
    "prediction = predict_output(simple_feature_matrix, weights)"
   ]
  },
  {
   "cell_type": "code",
   "execution_count": 269,
   "metadata": {
    "collapsed": false
   },
   "outputs": [
    {
     "data": {
      "text/plain": [
       "array([ 1.,  4.,  1.])"
      ]
     },
     "execution_count": 269,
     "metadata": {},
     "output_type": "execute_result"
    }
   ],
   "source": [
    "weights"
   ]
  },
  {
   "cell_type": "markdown",
   "metadata": {},
   "source": [
    "Compute the values of `ro[i]` for each feature in this simple model, using the formula given above, using the formula:\n",
    "```\n",
    "ro[i] = SUM[ [feature_i]*(output - prediction + w[i]*[feature_i]) ]\n",
    "```\n",
    "\n",
    "*Hint: You can get a Numpy vector for feature_i using:*\n",
    "```\n",
    "simple_feature_matrix[:,i]\n",
    "```"
   ]
  },
  {
   "cell_type": "code",
   "execution_count": 272,
   "metadata": {
    "collapsed": false
   },
   "outputs": [
    {
     "name": "stdout",
     "output_type": "stream",
     "text": [
      "158800892.097 175880009.433\n"
     ]
    }
   ],
   "source": [
    "ro_0 = (simple_feature_matrix[:,0]*(output - prediction) + weights[0]*simple_feature_matrix[:,0]).sum()\n",
    "ro_1 = (simple_feature_matrix[:,1]*(output - prediction) + weights[1]*simple_feature_matrix[:,1]).sum()\n",
    "print ro_0*2,ro_1*2"
   ]
  },
  {
   "cell_type": "markdown",
   "metadata": {},
   "source": [
    "***QUIZ QUESTION***\n",
    "\n",
    "Recall that, whenever `ro[i]` falls between `-l1_penalty/2` and `l1_penalty/2`, the corresponding weight `w[i]` is sent to zero. Now suppose we were to take one step of coordinate descent on either feature 1 or feature 2. What range of values of `l1_penalty` **would not** set `w[1]` zero, but **would** set `w[2]` to zero, if we were to take a step in that coordinate? "
   ]
  },
  {
   "cell_type": "code",
   "execution_count": null,
   "metadata": {
    "collapsed": false
   },
   "outputs": [],
   "source": []
  },
  {
   "cell_type": "markdown",
   "metadata": {},
   "source": [
    "***QUIZ QUESTION***\n",
    "\n",
    "What range of values of `l1_penalty` would set **both** `w[1]` and `w[2]` to zero, if we were to take a step in that coordinate? "
   ]
  },
  {
   "cell_type": "code",
   "execution_count": null,
   "metadata": {
    "collapsed": false
   },
   "outputs": [],
   "source": []
  },
  {
   "cell_type": "markdown",
   "metadata": {},
   "source": [
    "So we can say that `ro[i]` quantifies the significance of the i-th feature: the larger `ro[i]` is, the more likely it is for the i-th feature to be retained."
   ]
  },
  {
   "cell_type": "markdown",
   "metadata": {},
   "source": [
    "## Single Coordinate Descent Step"
   ]
  },
  {
   "cell_type": "markdown",
   "metadata": {},
   "source": [
    "Using the formula above, implement coordinate descent that minimizes the cost function over a single feature i. Note that the intercept (weight 0) is not regularized. The function should accept feature matrix, output, current weights, l1 penalty, and index of feature to optimize over. The function should return new weight for feature i."
   ]
  },
  {
   "cell_type": "code",
   "execution_count": 273,
   "metadata": {
    "collapsed": false
   },
   "outputs": [],
   "source": [
    "def lasso_coordinate_descent_step(i, feature_matrix, output, weights, l1_penalty):\n",
    "    # compute prediction\n",
    "    prediction = predict_output(feature_matrix, weights)\n",
    "    # compute ro[i] = SUM[ [feature_i]*(output - prediction + weight[i]*[feature_i]) ]\n",
    "    ro_i = (feature_matrix[:,i]*(output - prediction + weights[i]*feature_matrix[:,i])).sum()\n",
    "    if i == 0: # intercept -- do not regularize\n",
    "        new_weight_i = ro_i \n",
    "    elif ro_i < -l1_penalty/2.:\n",
    "        new_weight_i = (ro_i + l1_penalty/2)\n",
    "    elif ro_i > l1_penalty/2.:\n",
    "        new_weight_i = (ro_i - l1_penalty/2)\n",
    "    else:\n",
    "        new_weight_i = 0.\n",
    "    \n",
    "    return new_weight_i"
   ]
  },
  {
   "cell_type": "markdown",
   "metadata": {},
   "source": [
    "To test the function, run the following cell:"
   ]
  },
  {
   "cell_type": "code",
   "execution_count": 274,
   "metadata": {
    "collapsed": false
   },
   "outputs": [
    {
     "name": "stdout",
     "output_type": "stream",
     "text": [
      "0.425558846691\n"
     ]
    }
   ],
   "source": [
    "# should print 0.425558846691\n",
    "import math\n",
    "print lasso_coordinate_descent_step(1, np.array([[3./math.sqrt(13),1./math.sqrt(10)],[2./math.sqrt(13),3./math.sqrt(10)]]), \n",
    "                                   np.array([1., 1.]), np.array([1., 4.]), 0.1)"
   ]
  },
  {
   "cell_type": "markdown",
   "metadata": {
    "collapsed": true
   },
   "source": [
    "## Cyclical coordinate descent "
   ]
  },
  {
   "cell_type": "markdown",
   "metadata": {},
   "source": [
    "Now that we have a function that optimizes the cost function over a single coordinate, let us implement cyclical coordinate descent where we optimize coordinates 0, 1, ..., (d-1) in order and repeat.\n",
    "\n",
    "When do we know to stop? Each time we scan all the coordinates (features) once, we measure the change in weight for each coordinate. If no coordinate changes by more than a specified threshold, we stop."
   ]
  },
  {
   "cell_type": "markdown",
   "metadata": {},
   "source": [
    "For each iteration:\n",
    "1. As you loop over features in order and perform coordinate descent, measure how much each coordinate changes.\n",
    "2. After the loop, if the maximum change across all coordinates is falls below the tolerance, stop. Otherwise, go back to step 1.\n",
    "\n",
    "Return weights\n",
    "\n",
    "**IMPORTANT: when computing a new weight for coordinate i, make sure to incorporate the new weights for coordinates 0, 1, ..., i-1. One good way is to update your weights variable in-place. See following pseudocode for illustration.**\n",
    "```\n",
    "for i in range(len(weights)):\n",
    "    old_weights_i = weights[i] # remember old value of weight[i], as it will be overwritten\n",
    "    # the following line uses new values for weight[0], weight[1], ..., weight[i-1]\n",
    "    #     and old values for weight[i], ..., weight[d-1]\n",
    "    weights[i] = lasso_coordinate_descent_step(i, feature_matrix, output, weights, l1_penalty)\n",
    "    \n",
    "    # use old_weights_i to compute change in coordinate\n",
    "    ...\n",
    "```"
   ]
  },
  {
   "cell_type": "code",
   "execution_count": 290,
   "metadata": {
    "collapsed": false
   },
   "outputs": [],
   "source": [
    "def lasso_cyclical_coordinate_descent(feature_matrix, output, initial_weights, l1_penalty, tolerance):\n",
    "    weights = initial_weights\n",
    "    convergence = False\n",
    "    #iteration = 0\n",
    "    while not convergence:\n",
    "        change_max = None\n",
    "        for i in range(len(weights)):\n",
    "            old_weights_i = weights[i] # remember old value of weight[i], as it will be overwritten\n",
    "            # the following line uses new values for weight[0], weight[1], ..., weight[i-1]\n",
    "            #     and old values for weight[i], ..., weight[d-1]\n",
    "            weights[i] = lasso_coordinate_descent_step(i, feature_matrix, output, weights, l1_penalty)\n",
    "            # use old_weights_i to compute change in coordinate\n",
    "            change = abs(old_weights_i - weights[i])\n",
    "            if (change_max == None) | (change > change_max):\n",
    "                change_max = change\n",
    "        #iteration +=1\n",
    "        print weights\n",
    "        #print change_max\n",
    "        if (change_max < tolerance): #| (iteration > 100):\n",
    "            convergence = True\n",
    "    return weights"
   ]
  },
  {
   "cell_type": "code",
   "execution_count": 25,
   "metadata": {
    "collapsed": false
   },
   "outputs": [
    {
     "data": {
      "text/plain": [
       "[0, 1, 2, 3, 4]"
      ]
     },
     "execution_count": 25,
     "metadata": {},
     "output_type": "execute_result"
    }
   ],
   "source": [
    "range(5)"
   ]
  },
  {
   "cell_type": "markdown",
   "metadata": {},
   "source": [
    "Using the following parameters, learn the weights on the sales dataset. "
   ]
  },
  {
   "cell_type": "code",
   "execution_count": 280,
   "metadata": {
    "collapsed": false
   },
   "outputs": [],
   "source": [
    "simple_features = ['sqft_living', 'bedrooms']\n",
    "my_output = 'price'\n",
    "initial_weights = np.zeros(3)\n",
    "l1_penalty = 1e7\n",
    "tolerance = 1.0"
   ]
  },
  {
   "cell_type": "markdown",
   "metadata": {},
   "source": [
    "First create a normalized version of the feature matrix, `normalized_simple_feature_matrix`."
   ]
  },
  {
   "cell_type": "code",
   "execution_count": 281,
   "metadata": {
    "collapsed": true
   },
   "outputs": [],
   "source": [
    "(simple_feature_matrix, output) = get_numpy_data(sales, simple_features, my_output)\n",
    "(normalized_simple_feature_matrix, simple_norms) = normalize_features(simple_feature_matrix) # normalize features"
   ]
  },
  {
   "cell_type": "markdown",
   "metadata": {},
   "source": [
    "Then, run your implementation of LASSO coordinate descent:"
   ]
  },
  {
   "cell_type": "code",
   "execution_count": 282,
   "metadata": {
    "collapsed": false
   },
   "outputs": [
    {
     "data": {
      "text/plain": [
       "array([ 21624998.36636292,  63157246.78545421,         0.        ])"
      ]
     },
     "execution_count": 282,
     "metadata": {},
     "output_type": "execute_result"
    }
   ],
   "source": [
    "weights = lasso_cyclical_coordinate_descent(normalized_simple_feature_matrix, output,\n",
    "                                            initial_weights, l1_penalty, tolerance)\n",
    "weights"
   ]
  },
  {
   "cell_type": "code",
   "execution_count": 283,
   "metadata": {
    "collapsed": false
   },
   "outputs": [
    {
     "name": "stdout",
     "output_type": "stream",
     "text": [
      "1.63049248148e+15\n"
     ]
    }
   ],
   "source": [
    "prediction = predict_output(normalized_simple_feature_matrix, weights)\n",
    "RSS = ((prediction - output)**2).sum()\n",
    "print RSS"
   ]
  },
  {
   "cell_type": "code",
   "execution_count": 746,
   "metadata": {
    "collapsed": false
   },
   "outputs": [
    {
     "name": "stdout",
     "output_type": "stream",
     "text": [
      "[ 79400304.65805088  10305258.63602118   -299724.11449882]\n"
     ]
    }
   ],
   "source": [
    "print weights"
   ]
  },
  {
   "cell_type": "markdown",
   "metadata": {},
   "source": [
    "***QUIZ QUESTIONS***\n",
    "1. What is the RSS of the learned model on the normalized dataset? (Hint: use the normalized feature matrix when you make predictions.)\n",
    "2. Which features had weight zero at convergence?"
   ]
  },
  {
   "cell_type": "markdown",
   "metadata": {},
   "source": [
    "# Evaluating LASSO fit with more features"
   ]
  },
  {
   "cell_type": "markdown",
   "metadata": {},
   "source": [
    "Let us split the sales dataset into training and test sets."
   ]
  },
  {
   "cell_type": "code",
   "execution_count": 295,
   "metadata": {
    "collapsed": true
   },
   "outputs": [],
   "source": [
    "train_data,test_data = sales.random_split(.8,seed=0)"
   ]
  },
  {
   "cell_type": "markdown",
   "metadata": {},
   "source": [
    "Let us consider the following set of features."
   ]
  },
  {
   "cell_type": "code",
   "execution_count": 296,
   "metadata": {
    "collapsed": true
   },
   "outputs": [],
   "source": [
    "all_features = ['bedrooms',\n",
    "                'bathrooms',\n",
    "                'sqft_living',\n",
    "                'sqft_lot',\n",
    "                'floors',\n",
    "                'waterfront', \n",
    "                'view', \n",
    "                'condition', \n",
    "                'grade',\n",
    "                'sqft_above',\n",
    "                'sqft_basement',\n",
    "                'yr_built', \n",
    "                'yr_renovated']"
   ]
  },
  {
   "cell_type": "markdown",
   "metadata": {},
   "source": [
    "First, create a normalized feature matrix from the TRAINING data with these features.  (Make you store the norms for the normalization, since we'll use them later)"
   ]
  },
  {
   "cell_type": "code",
   "execution_count": 297,
   "metadata": {
    "collapsed": false
   },
   "outputs": [
    {
     "data": {
      "text/plain": [
       "array([  1.31848398e+02,   4.60040216e+02,   2.96850552e+02,\n",
       "         2.99962419e+05,   5.81709718e+06,   2.04107815e+02,\n",
       "         1.15325626e+01,   1.05933942e+02,   4.57793622e+02,\n",
       "         1.02101959e+03,   2.59726472e+05,   7.01224951e+04,\n",
       "         2.59922094e+05,   5.36953839e+04])"
      ]
     },
     "execution_count": 297,
     "metadata": {},
     "output_type": "execute_result"
    }
   ],
   "source": [
    "(feature_matrix, output) = get_numpy_data(train_data, all_features, my_output)\n",
    "(normalized_feature_matrix, norms) = normalize_features(feature_matrix) # normalize features\n",
    "norms"
   ]
  },
  {
   "cell_type": "markdown",
   "metadata": {},
   "source": [
    "First, learn the weights with `l1_penalty=1e7`, on the training data. Initialize weights to all zeros, and set the `tolerance=1`.  Call resulting weights `weights1e7`, you will need them later."
   ]
  },
  {
   "cell_type": "code",
   "execution_count": 298,
   "metadata": {
    "collapsed": true
   },
   "outputs": [],
   "source": [
    "initial_weights = np.zeros(len(normalized_feature_matrix[0]))\n",
    "l1_penalty = 1e7\n",
    "tolerance = 1.0"
   ]
  },
  {
   "cell_type": "code",
   "execution_count": 299,
   "metadata": {
    "collapsed": false
   },
   "outputs": [
    {
     "data": {
      "text/plain": [
       "14"
      ]
     },
     "execution_count": 299,
     "metadata": {},
     "output_type": "execute_result"
    }
   ],
   "source": [
    "len(initial_weights)"
   ]
  },
  {
   "cell_type": "code",
   "execution_count": 300,
   "metadata": {
    "collapsed": false
   },
   "outputs": [
    {
     "name": "stdout",
     "output_type": "stream",
     "text": [
      "[ 71114625.75280938         0.           3743972.43191673\n",
      "   5271064.34696085         0.                 0.           7173100.28480826\n",
      "   7025132.06642577  -5530804.65691784         0.            394565.5843951\n",
      "   2242690.39485069  -2160960.47385677         0.        ]\n",
      "[ 66090269.38411943         0.           5640929.90486558\n",
      "   9576074.08584593         0.                 0.           4372018.67087034\n",
      "   8681306.06747757  -5916544.37101573         0.                 0.\n",
      "   2344289.56079889  -2427081.50004131         0.        ]\n",
      "[ 61077944.47016686         0.           6858126.8698525   13615612.28257743\n",
      "         0.                 0.           3592460.38136717\n",
      "   8827496.44124511  -5139390.8217317          0.                 0.\n",
      "   1473793.21583144  -2523078.87389485         0.        ]\n",
      "[ 56077268.04930484         0.           7597643.55215974\n",
      "  17477273.39390055         0.                 0.           3454915.18215362\n",
      "   8778283.91626904  -3739993.93385283         0.                 0.\n",
      "    553532.20275255  -2599789.5856098          0.        ]\n",
      "[ 51086024.87616499         0.           7940108.95979062\n",
      "  21166079.78641376         0.                 0.           3408675.87286224\n",
      "   8715945.98821977  -1827206.47373671         0.                 0.\n",
      "         0.          -2862294.95309064         0.        ]\n",
      "[ 46101663.53281097         0.           7923070.3061918   24660952.87878783\n",
      "         0.                 0.           3357014.5067389    8609964.29727856\n",
      "         0.                 0.                 0.                 0.\n",
      "  -2821325.28954631         0.        ]\n",
      "[ 41122158.60360587         0.           7564250.37938542\n",
      "  27935328.02331407         0.                 0.           3303237.80483547\n",
      "   8426877.62878147         0.                 0.                 0.\n",
      "    164424.74329385   -535700.94289838         0.        ]\n",
      "[ 36148352.03835092         0.           6897153.9464543   31000225.66654859\n",
      "         0.                 0.           3287534.55462106\n",
      "   8231044.69741986         0.                 0.                 0.\n",
      "    122579.09367797         0.                 0.        ]\n",
      "[ 33519131.51280317         0.           6001531.02429422\n",
      "  33879448.66593293         0.                 0.           3295337.93820763\n",
      "   8074870.24225422         0.                 0.                 0.\n",
      "         0.                 0.                 0.        ]\n",
      "[ 31840636.3338911          0.           4928867.266338    36585599.43215322\n",
      "         0.                 0.           3299752.5882407    7953234.05021375\n",
      "         0.                 0.                 0.                 0.\n",
      "         0.                 0.        ]\n",
      "[ 30409496.85243233         0.           3705897.13084735\n",
      "  39117895.08079506         0.                 0.           3291468.13866392\n",
      "   7833459.27138488         0.                 0.                 0.\n",
      "         0.                 0.                 0.        ]\n",
      "[ 29279072.83007889         0.           2368683.30339511\n",
      "  41486211.65861711         0.                 0.           3288420.79846091\n",
      "   7723380.69771029         0.                 0.                 0.\n",
      "         0.                 0.                 0.        ]\n",
      "[ 28402586.06414695         0.            947126.04373107\n",
      "  43699336.00928315         0.                 0.           3287240.84588382\n",
      "   7624767.90587166         0.                 0.                 0.\n",
      "         0.                 0.                 0.        ]\n",
      "[ 27743688.99918686         0.                 0.          45251779.60941456\n",
      "         0.                 0.           3293773.58945422\n",
      "   7548697.23422141         0.                 0.                 0.\n",
      "         0.                 0.                 0.        ]\n",
      "[ 27235850.96602787         0.                 0.          45743955.32843313\n",
      "         0.                 0.           3308697.42773068\n",
      "   7506238.67345057         0.                 0.                 0.\n",
      "         0.                 0.                 0.        ]\n",
      "[ 26797036.59543665         0.                 0.          46159317.16186339\n",
      "         0.                 0.           3313254.30640553\n",
      "   7476716.65571677         0.                 0.                 0.\n",
      "         0.                 0.                 0.        ]\n",
      "[ 26425556.97282853         0.                 0.          46509519.18337359\n",
      "         0.                 0.           3314649.10154074\n",
      "   7453273.45223347         0.                 0.                 0.\n",
      "         0.                 0.                 0.        ]\n",
      "[ 26112141.86724785         0.                 0.          46804732.86823682\n",
      "         0.                 0.           3315254.98875543\n",
      "   7433823.25768145         0.                 0.                 0.\n",
      "         0.                 0.                 0.        ]\n",
      "[ 25847897.03510908         0.                 0.          47053583.39546043\n",
      "         0.                 0.           3315642.31717273\n",
      "   7417493.51913732         0.                 0.                 0.\n",
      "         0.                 0.                 0.        ]\n",
      "[ 25625143.17430943         0.                 0.          47263350.30884483\n",
      "         0.                 0.           3315942.73826207\n",
      "   7403742.24942826         0.                 0.                 0.\n",
      "         0.                 0.                 0.        ]\n",
      "[ 25437372.50700296         0.                 0.          47440171.58817237\n",
      "         0.                 0.           3316190.51453801\n",
      "   7392153.60601596         0.                 0.                 0.\n",
      "         0.                 0.                 0.        ]\n",
      "[ 25279092.41364577         0.                 0.          47589221.54446636\n",
      "         0.                 0.           3316398.23528126   7382385.6595507\n",
      "         0.                 0.                 0.                 0.\n",
      "         0.                 0.        ]\n",
      "[ 25145671.51203963         0.                 0.          47714861.89066112\n",
      "         0.                 0.           3316573.09391967\n",
      "   7374151.98016549         0.                 0.                 0.\n",
      "         0.                 0.                 0.        ]\n",
      "[ 25033205.52374351         0.                 0.          47820769.30926739\n",
      "         0.                 0.           3316720.4399141    7367211.49898669\n",
      "         0.                 0.                 0.                 0.\n",
      "         0.                 0.        ]\n",
      "[ 24938403.3102916          0.                 0.          47910043.0304225\n",
      "         0.                 0.           3316844.63359071\n",
      "   7361361.08723077         0.                 0.                 0.\n",
      "         0.                 0.                 0.        ]\n",
      "[ 24858490.62284106         0.                 0.          47985295.5233927\n",
      "         0.                 0.           3316949.31939949\n",
      "   7356429.53556118         0.                 0.                 0.\n",
      "         0.                 0.                 0.        ]\n",
      "[ 24791128.9302215          0.                 0.          48048728.94615556\n",
      "         0.                 0.           3317037.56292694\n",
      "   7352272.52797432         0.                 0.                 0.\n",
      "         0.                 0.                 0.        ]\n",
      "[ 24734346.98772947         0.                 0.          48102199.58831156\n",
      "         0.                 0.           3317111.94693379\n",
      "   7348768.41527911         0.                 0.                 0.\n",
      "         0.                 0.                 0.        ]\n",
      "[ 24686483.15197743         0.                 0.          48147272.19275205\n",
      "         0.                 0.           3317174.64825439\n",
      "   7345814.65451413         0.                 0.                 0.\n",
      "         0.                 0.                 0.        ]\n",
      "[ 24646136.75535794         0.                 0.          48185265.7456461\n",
      "         0.                 0.           3317227.50177346\n",
      "   7343324.80802849         0.                 0.                 0.\n",
      "         0.                 0.                 0.        ]\n",
      "[ 24612127.11750611         0.                 0.          48217292.07470854\n",
      "         0.                 0.           3317272.0541786    7341226.013976\n",
      "         0.                 0.                 0.                 0.\n",
      "         0.                 0.        ]\n",
      "[ 24583458.99435963         0.                 0.          48244288.38526876\n",
      "         0.                 0.           3317309.60923393\n",
      "   7339456.85410976         0.                 0.                 0.\n",
      "         0.                 0.                 0.        ]\n",
      "[ 24559293.4537467          0.                 0.          48267044.68626235\n",
      "         0.                 0.           3317341.26593531\n",
      "   7337965.55646257         0.                 0.                 0.\n",
      "         0.                 0.                 0.        ]\n",
      "[ 24538923.32521991         0.                 0.          48286226.90872774\n",
      "         0.                 0.           3317367.95067149\n",
      "   7336708.48031304         0.                 0.                 0.\n",
      "         0.                 0.                 0.        ]\n",
      "[ 24521752.50571108         0.                 0.          48302396.3933384\n",
      "         0.                 0.           3317390.44433361\n",
      "   7335648.83910145         0.                 0.                 0.\n",
      "         0.                 0.                 0.        ]\n",
      "[ 24507278.51541609         0.                 0.          48316026.31724562\n",
      "         0.                 0.           3317409.40516696\n",
      "   7334755.62392295         0.                 0.                 0.\n",
      "         0.                 0.                 0.        ]\n",
      "[ 24495077.79343239         0.                 0.          48327515.54094009\n",
      "         0.                 0.           3317425.38803358\n",
      "   7334002.69609569         0.                 0.                 0.\n",
      "         0.                 0.                 0.        ]\n",
      "[ 24484793.30284688         0.                 0.          48337200.28034145\n",
      "         0.                 0.           3317438.8606495    7333368.02224923\n",
      "         0.                 0.                 0.                 0.\n",
      "         0.                 0.        ]\n",
      "[ 24476124.08255446         0.                 0.          48345363.94568269\n",
      "         0.                 0.           3317450.21727182   7332833.029549\n",
      "         0.                 0.                 0.                 0.\n",
      "         0.                 0.        ]\n",
      "[ 24468816.4400559          0.                 0.          48352245.43511073\n",
      "         0.                 0.           3317459.79023607\n",
      "   7332382.06218852         0.                 0.                 0.\n",
      "         0.                 0.                 0.        ]\n",
      "[ 24462656.52750489         0.                 0.          48358046.1257036\n",
      "         0.                 0.           3317467.85968154\n",
      "   7332001.92324434         0.                 0.                 0.\n",
      "         0.                 0.                 0.        ]\n",
      "[ 24457464.08375254         0.                 0.          48362935.76648644\n",
      "         0.                 0.           3317474.66174915\n",
      "   7331681.48848664         0.                 0.                 0.\n",
      "         0.                 0.                 0.        ]\n",
      "[ 24453087.15925921         0.                 0.          48367057.44589729\n",
      "         0.                 0.           3317480.39549183\n",
      "   7331411.38084439         0.                 0.                 0.\n",
      "         0.                 0.                 0.        ]\n",
      "[ 24449397.66950563         0.                 0.          48370531.77906823\n",
      "         0.                 0.           3317485.22869947\n",
      "   7331183.69599856         0.                 0.                 0.\n",
      "         0.                 0.                 0.        ]\n",
      "[ 24446287.6467802          0.                 0.          48373460.43745707\n",
      "         0.                 0.           3317489.30280905\n",
      "   7330991.77107342         0.                 0.                 0.\n",
      "         0.                 0.                 0.        ]\n",
      "[ 24443666.08065623         0.                 0.          48375929.12411907\n",
      "         0.                 0.           3317492.73704366\n",
      "   7330829.98965685         0.                 0.                 0.\n",
      "         0.                 0.                 0.        ]\n",
      "[ 24441456.25470026         0.                 0.          48378010.08168601\n",
      "         0.                 0.           3317495.63190132\n",
      "   7330693.61744396         0.                 0.                 0.\n",
      "         0.                 0.                 0.        ]\n",
      "[ 24439593.50147384         0.                 0.          48379764.20644474\n",
      "         0.                 0.           3317498.07209596\n",
      "   7330578.66369439         0.                 0.                 0.\n",
      "         0.                 0.                 0.        ]\n",
      "[ 24438023.31013222         0.                 0.          48381242.83038118\n",
      "         0.                 0.           3317500.12903643\n",
      "   7330481.76444886         0.                 0.                 0.\n",
      "         0.                 0.                 0.        ]\n",
      "[ 24436699.73124141         0.                 0.          48382489.22333844\n",
      "         0.                 0.           3317501.86291619\n",
      "   7330400.08408766         0.                 0.                 0.\n",
      "         0.                 0.                 0.        ]\n",
      "[ 24435584.03213278         0.                 0.          48383539.85924767\n",
      "         0.                 0.           3317503.32447478   7330331.2323503\n",
      "         0.                 0.                 0.                 0.\n",
      "         0.                 0.        ]\n",
      "[ 24434643.56344624         0.                 0.          48384425.48348628\n",
      "         0.                 0.           3317504.55648265\n",
      "   7330273.19438781         0.                 0.                 0.\n",
      "         0.                 0.                 0.        ]\n",
      "[ 24433850.80369271         0.                 0.          48385172.01259795\n",
      "         0.                 0.           3317505.59499279\n",
      "   7330224.27180114         0.                 0.                 0.\n",
      "         0.                 0.                 0.        ]\n",
      "[ 24433182.55387663         0.                 0.          48385801.29270376\n",
      "         0.                 0.           3317506.47039571   7330183.0329398\n",
      "         0.                 0.                 0.                 0.\n",
      "         0.                 0.        ]\n",
      "[ 24432619.25861004         0.                 0.          48386331.73879806\n",
      "         0.                 0.           3317507.20830885\n",
      "   7330148.27100671         0.                 0.                 0.\n",
      "         0.                 0.                 0.        ]\n",
      "[ 24432144.43385182         0.                 0.          48386778.87363732\n",
      "         0.                 0.           3317507.8303262    7330118.96874296\n",
      "         0.                 0.                 0.                 0.\n",
      "         0.                 0.        ]\n",
      "[ 24431744.18452539         0.                 0.          48387155.78199167\n",
      "         0.                 0.           3317508.35465022\n",
      "   7330094.26865914         0.                 0.                 0.\n",
      "         0.                 0.                 0.        ]\n",
      "[ 24431406.79789903         0.                 0.          48387473.49355227\n",
      "         0.                 0.           3317508.79662451\n",
      "   7330073.44794214         0.                 0.                 0.\n",
      "         0.                 0.                 0.        ]\n",
      "[ 24431122.40082914         0.                 0.          48387741.30569964\n",
      "         0.                 0.           3317509.16918283\n",
      "   7330055.89730307         0.                 0.                 0.\n",
      "         0.                 0.                 0.        ]\n",
      "[ 24430882.6708368          0.                 0.          48387967.05557837\n",
      "         0.                 0.           3317509.48322757\n",
      "   7330041.10314724         0.                 0.                 0.\n",
      "         0.                 0.                 0.        ]\n",
      "[ 24430680.59256204         0.                 0.          48388157.34944013\n",
      "         0.                 0.           3317509.74794879\n",
      "   7330028.63254455         0.                 0.                 0.\n",
      "         0.                 0.                 0.        ]\n",
      "[ 24430510.25246929         0.                 0.          48388317.75596626\n",
      "         0.                 0.           3317509.97109321\n",
      "   7330018.12056042         0.                 0.                 0.\n",
      "         0.                 0.                 0.        ]\n",
      "[ 24430366.6657961          0.                 0.          48388452.96922742\n",
      "         0.                 0.           3317510.15919082\n",
      "   7330009.25957646         0.                 0.                 0.\n",
      "         0.                 0.                 0.        ]\n",
      "[ 24430245.63068108         0.                 0.          48388566.9460489\n",
      "         0.                 0.           3317510.31774603\n",
      "   7330001.79028846         0.                 0.                 0.\n",
      "         0.                 0.                 0.        ]\n",
      "[ 24430143.60520236         0.                 0.          48388663.02180155\n",
      "         0.                 0.           3317510.45139875\n",
      "   7329995.49411828         0.                 0.                 0.\n",
      "         0.                 0.                 0.        ]\n",
      "[ 24430057.60372829         0.                 0.          48388744.0080067\n",
      "         0.                 0.           3317510.56406012\n",
      "   7329990.18681736         0.                 0.                 0.\n",
      "         0.                 0.                 0.        ]\n",
      "[ 24429985.10954708         0.                 0.          48388812.27461138\n",
      "         0.                 0.           3317510.65902703\n",
      "   7329985.71307503         0.                 0.                 0.\n",
      "         0.                 0.                 0.        ]\n",
      "[ 24429924.00121881         0.                 0.          48388869.81934144\n",
      "         0.                 0.           3317510.73907854\n",
      "   7329981.94197355         0.                 0.                 0.\n",
      "         0.                 0.                 0.        ]\n",
      "[ 24429872.49049448         0.                 0.          48388918.32616221\n",
      "         0.                 0.           3317510.80655726\n",
      "   7329978.76315693         0.                 0.                 0.\n",
      "         0.                 0.                 0.        ]\n",
      "[ 24429829.06998541         0.                 0.          48388959.21455736\n",
      "         0.                 0.           3317510.86343784\n",
      "   7329976.08360161         0.                 0.                 0.\n",
      "         0.                 0.                 0.        ]\n",
      "[ 24429792.46905169         0.                 0.          48388993.68106808\n",
      "         0.                 0.           3317510.91138483\n",
      "   7329973.82489417         0.                 0.                 0.\n",
      "         0.                 0.                 0.        ]\n",
      "[ 24429761.61661863         0.                 0.          48389022.73430816\n",
      "         0.                 0.           3317510.95180131\n",
      "   7329971.92093673         0.                 0.                 0.\n",
      "         0.                 0.                 0.        ]\n",
      "[ 24429735.6098333          0.                 0.          48389047.22447969\n",
      "         0.                 0.           3317510.98587003\n",
      "   7329970.31601266         0.                 0.                 0.\n",
      "         0.                 0.                 0.        ]\n",
      "[ 24429713.68764385         0.                 0.          48389067.86825296\n",
      "         0.                 0.           3317511.01458796\n",
      "   7329968.96315612         0.                 0.                 0.\n",
      "         0.                 0.                 0.        ]\n",
      "[ 24429695.20852833         0.                 0.          48389085.26973889\n",
      "         0.                 0.           3317511.03879548\n",
      "   7329967.82277768         0.                 0.                 0.\n",
      "         0.                 0.                 0.        ]\n",
      "[ 24429679.6317215          0.                 0.          48389099.93816741\n",
      "         0.                 0.           3317511.059201     7329966.86150577\n",
      "         0.                 0.                 0.                 0.\n",
      "         0.                 0.        ]\n",
      "[ 24429666.50139007         0.                 0.          48389112.30278936\n",
      "         0.                 0.           3317511.07640165\n",
      "   7329966.05121013         0.                 0.                 0.\n",
      "         0.                 0.                 0.        ]\n",
      "[ 24429655.43329344         0.                 0.          48389122.72543798\n",
      "         0.                 0.           3317511.09090078\n",
      "   7329965.36817859         0.                 0.                 0.\n",
      "         0.                 0.                 0.        ]\n",
      "[ 24429646.10353936         0.                 0.          48389131.51111735\n",
      "         0.                 0.           3317511.1031227    7329964.79242319\n",
      "         0.                 0.                 0.                 0.\n",
      "         0.                 0.        ]\n",
      "[ 24429638.23910576         0.                 0.          48389138.91692802\n",
      "         0.                 0.           3317511.11342506\n",
      "   7329964.30709528         0.                 0.                 0.\n",
      "         0.                 0.                 0.        ]\n",
      "[ 24429631.60985107         0.                 0.          48389145.15959056\n",
      "         0.                 0.           3317511.12210934\n",
      "   7329963.89799242         0.                 0.                 0.\n",
      "         0.                 0.                 0.        ]\n",
      "[ 24429626.02177951         0.                 0.          48389150.42178767\n",
      "         0.                 0.           3317511.12942967\n",
      "   7329963.55314278         0.                 0.                 0.\n",
      "         0.                 0.                 0.        ]\n",
      "[ 24429621.31136408         0.                 0.          48389154.85751015\n",
      "         0.                 0.           3317511.13560029\n",
      "   7329963.26245483         0.                 0.                 0.\n",
      "         0.                 0.                 0.        ]\n",
      "[ 24429617.34076108         0.                 0.          48389158.59656314\n",
      "         0.                 0.           3317511.14080175\n",
      "   7329963.01742199         0.                 0.                 0.\n",
      "         0.                 0.                 0.        ]\n",
      "[ 24429613.99377643         0.                 0.          48389161.74836475\n",
      "         0.                 0.           3317511.14518628\n",
      "   7329962.81087374         0.                 0.                 0.\n",
      "         0.                 0.                 0.        ]\n",
      "[ 24429611.17246536         0.                 0.          48389164.40514802\n",
      "         0.                 0.           3317511.14888218\n",
      "   7329962.63676571         0.                 0.                 0.\n",
      "         0.                 0.                 0.        ]\n",
      "[ 24429608.79426617         0.                 0.          48389166.64465995\n",
      "         0.                 0.           3317511.15199761\n",
      "   7329962.49000289         0.                 0.                 0.\n",
      "         0.                 0.                 0.        ]\n",
      "[ 24429606.78958422         0.                 0.          48389168.53243671\n",
      "         0.                 0.           3317511.15462373\n",
      "   7329962.36629047         0.                 0.                 0.\n",
      "         0.                 0.                 0.        ]\n",
      "[ 24429605.09975531         0.                 0.          48389170.12372143\n",
      "         0.                 0.           3317511.15683739\n",
      "   7329962.26200818         0.                 0.                 0.\n",
      "         0.                 0.                 0.        ]\n",
      "[ 24429603.67532899         0.                 0.          48389171.46508078\n",
      "         0.                 0.           3317511.15870338\n",
      "   7329962.17410435         0.                 0.                 0.\n",
      "         0.                 0.                 0.        ]\n",
      "[ 24429602.47462144         0.                 0.          48389172.59576778\n",
      "         0.                 0.           3317511.1602763    7329962.10000659\n",
      "         0.                 0.                 0.                 0.\n",
      "         0.                 0.        ]\n",
      "[ 24429601.46249563         0.                 0.          48389173.54887038\n",
      "         0.                 0.           3317511.16160218\n",
      "   7329962.03754654         0.                 0.                 0.\n",
      "         0.                 0.                 0.        ]\n",
      "[ 24429600.60933314         0.                 0.          48389174.35227978\n",
      "         0.                 0.           3317511.16271982   7329961.9848964\n",
      "         0.                 0.                 0.                 0.\n",
      "         0.                 0.        ]\n",
      "161.317456248\n"
     ]
    }
   ],
   "source": [
    "weights1e7 = lasso_cyclical_coordinate_descent(normalized_feature_matrix, output,\n",
    "                                            initial_weights, l1_penalty, tolerance)\n",
    "print (weights1e7/norms)[3]"
   ]
  },
  {
   "cell_type": "code",
   "execution_count": 177,
   "metadata": {
    "collapsed": false
   },
   "outputs": [
    {
     "data": {
      "text/plain": [
       "array([ 79073525.87157495,   7352695.50428854,  29189188.30308903,\n",
       "        28879094.43761011,  -2386612.95817425, -26399682.39083327,\n",
       "         7235970.68258547,   9746381.92787495, -27932730.31358304,\n",
       "        15715170.43205332,  29934053.53052816,   4197465.78547565,\n",
       "       -56874912.75849117,   2932541.35704897])"
      ]
     },
     "execution_count": 177,
     "metadata": {},
     "output_type": "execute_result"
    }
   ],
   "source": []
  },
  {
   "cell_type": "markdown",
   "metadata": {},
   "source": [
    "***QUIZ QUESTION***\n",
    "\n",
    "What features had non-zero weight in this case?"
   ]
  },
  {
   "cell_type": "markdown",
   "metadata": {
    "collapsed": true
   },
   "source": [
    "Next, learn the weights with `l1_penalty=1e8`, on the training data. Initialize weights to all zeros, and set the `tolerance=1`.  Call resulting weights `weights1e8`, you will need them later."
   ]
  },
  {
   "cell_type": "code",
   "execution_count": 293,
   "metadata": {
    "collapsed": false
   },
   "outputs": [
    {
     "name": "stdout",
     "output_type": "stream",
     "text": [
      "[ 71114625.75280938         0.                 0.                 0.\n",
      "         0.                 0.                 0.                 0.\n",
      "         0.                 0.                 0.                 0.\n",
      "         0.                 0.        ]\n",
      "[ 71114625.75280938         0.                 0.                 0.\n",
      "         0.                 0.                 0.                 0.\n",
      "         0.                 0.                 0.                 0.\n",
      "         0.                 0.        ]\n"
     ]
    }
   ],
   "source": [
    "l1_penalty=1e8\n",
    "initial_weights = np.zeros(len(normalized_feature_matrix[0]))\n",
    "tolerance = 1.0\n",
    "weights1e8 = lasso_cyclical_coordinate_descent(normalized_feature_matrix, output,\n",
    "                                            initial_weights, l1_penalty, tolerance)"
   ]
  },
  {
   "cell_type": "code",
   "execution_count": 256,
   "metadata": {
    "collapsed": false
   },
   "outputs": [
    {
     "name": "stdout",
     "output_type": "stream",
     "text": [
      "0.0\n"
     ]
    }
   ],
   "source": [
    "print (weights1e8/norms)[3]"
   ]
  },
  {
   "cell_type": "markdown",
   "metadata": {},
   "source": [
    "***QUIZ QUESTION***\n",
    "\n",
    "What features had non-zero weight in this case?"
   ]
  },
  {
   "cell_type": "markdown",
   "metadata": {},
   "source": [
    "Finally, learn the weights with `l1_penalty=1e4`, on the training data. Initialize weights to all zeros, and set the `tolerance=5e5`.  Call resulting weights `weights1e4`, you will need them later.  (This case will take quite a bit longer to converge than the others above.)"
   ]
  },
  {
   "cell_type": "code",
   "execution_count": 294,
   "metadata": {
    "collapsed": false
   },
   "outputs": [
    {
     "name": "stdout",
     "output_type": "stream",
     "text": [
      "[ 71114625.75280938   3956380.10169754   4963442.47090491\n",
      "   5351785.20244835  -1029778.70127717  -8770183.36166059\n",
      "  12531492.38446381  10818930.30035373  -8852214.38705103\n",
      "   3691006.48690016   6552708.56440671   2946362.53466733\n",
      " -11587978.82672676   3043479.31193253]\n",
      "[ 70458043.17373988   6425368.15103951   8547900.27630541\n",
      "   8914874.67834649  -1450214.98167019 -13686427.97272057   7599969.4022666\n",
      "  12239550.5873264  -12644466.52258853   6608416.91505529\n",
      "  11849744.63068959   3426663.58888806 -20051994.77410842\n",
      "   3192423.86076874]\n",
      "[ 70403369.99725774   8029765.38655873  11725662.87650004\n",
      "  11908552.09885677  -1647027.40495415 -17274295.53307753   6637674.9450811\n",
      "  11699329.84283599 -15634070.12426525   8906988.10150192\n",
      "  16034491.41171806   3574599.33574975 -26870446.13280139\n",
      "   3106799.55239196]\n",
      "[ 70415249.40388954   8994652.98158436  14529291.14161975\n",
      "  14486684.75797745  -1743683.20857492 -19899995.01362915\n",
      "   6563586.29797617  10977693.54810273 -18097071.94550943\n",
      "  10686267.20056591  19285506.56035306   3667084.49006893\n",
      " -32440611.35181164   2987513.41029021]\n",
      "[ 70450964.48054762   9456361.77643506  16988899.66636614\n",
      "  16736762.56992277  -1801401.80189282 -21761923.06960091   6620246.8120482\n",
      "  10349514.34741229 -20100415.31766955  12031481.72752242\n",
      "  21767300.64645516   3748143.25893155 -37000449.81940535\n",
      "   2878937.97009907]\n",
      "[ 70499306.27673222   9519216.37605406  19138018.51724426\n",
      "  18728469.46937217  -1839465.55359354 -23021138.54666445   6680022.5254806\n",
      "   9833318.56865259 -21694979.67073989  13015705.67707695\n",
      "  23619694.01572518   3821930.65061696 -40732506.5165541    2787474.22568849]\n",
      "[ 70556926.98001136   9267912.40504881  21008659.30980168  20518129.4947423\n",
      "  -1864760.54478443 -23809863.85467512   6726819.64397519   9413131.9684151\n",
      " -22928289.97291855  13701351.34916217  24959144.10579157\n",
      "   3886076.91681173 -43785718.13007963   2711927.23115647]\n",
      "[ 70622246.76940548   8771897.12600917  22630212.57525808  22150908.6555432\n",
      "  -1880976.98751554 -24235174.3469699    6761132.54162502\n",
      "   9071818.27410585 -23844545.74228065  14141560.40378443\n",
      "  25882031.86355307   3937852.72751497 -46283235.56565493\n",
      "   2650093.04210199]\n",
      "[ 70694111.63321711   8088081.20032255  24029363.26834363\n",
      "  23662777.50995147  -1890718.29954909 -24383112.37816942\n",
      "   6785190.05348803   8794922.50933285 -24484268.60458403\n",
      "  14381463.13848995  26467862.19794325   3975271.71108588\n",
      " -48327104.53890122   2599900.8601471 ]\n",
      "[ 70771541.17942622   7262965.24159091  25230221.53548648\n",
      "  25082194.93920091  -1895973.69029974 -24322439.47710419\n",
      "   6800996.15216721   8570555.10887512 -24884240.02595017\n",
      "  14459293.42064054  26782048.13517929   3997172.76960736\n",
      " -50001822.24795851   2559554.46760875]\n",
      "[ 70853678.24779326   6334401.6557595   26254500.38693175\n",
      "  26431512.25362653  -1898273.018061   -24107805.47881386\n",
      "   6810192.89013928   8388939.556973   -25077606.25583569\n",
      "  14407363.84376484  26878272.4627176    4003090.356523   -51377243.00488025\n",
      "   2527516.65654234]\n",
      "[ 70939771.75310193   5333068.90144944  27121703.32685478\n",
      "  27728134.06792217  -1898779.4760643  -23782375.40321065\n",
      "   6814121.53426841   8242031.63312233 -25094063.7477589   14252913.16601204\n",
      "  26800475.83336772   3993095.8709151  -52511001.04322623\n",
      "   2502475.66278923]\n",
      "[ 71029164.99152589   4283706.25027258  27849310.99552128\n",
      "  28985475.00402001  -1898362.68382362 -23379997.42321803\n",
      "   6813881.72798613   8123217.28195347 -24960083.21169405\n",
      "  14018840.07469758  26584524.78255634   3967654.91157037\n",
      " -53450542.58662399   2483313.64148042]\n",
      "[ 71121285.34786166   3206146.96786802  28452961.9612801   30213746.25220951\n",
      "  -1897659.00976623 -22926988.66801348   6810376.00338104\n",
      "   8027067.58885802 -24699150.90278837  13724336.9913304   26259608.1036773\n",
      "   3927509.54520613 -54234832.34556032   2469079.20787987]\n",
      "[ 71215634.89820577   2116181.5819736   28946624.91806973\n",
      "  31420600.61692449  -1897121.13626888 -22443603.34456657\n",
      "   6804344.25175394   7949136.51157465 -24332014.82246415\n",
      "  13385436.50551809  25849403.64175337   3873584.81302296\n",
      " -54895786.03774241   2458963.72051595]\n",
      "[ 71311781.85224952   1026278.01135322  29342760.65815508\n",
      "  32611660.02290411  -1897058.43405653 -21945236.89337689\n",
      "   6796391.51843984   7885792.50911821 -23876928.05055331\n",
      "  13015481.70772355  25373051.52104488   3806916.12920273\n",
      " -55459471.64364306   2452280.80910095]\n",
      "[  7.14093528e+07  -4.38187520e+04   2.96429300e+07   3.37906908e+07\n",
      "  -1.89763163e+06  -2.14433838e+07   6.78721475e+06   7.83424990e+06\n",
      "  -2.33505318e+07   1.26257841e+07   2.48461999e+07   3.72850163e+06\n",
      "  -5.59474412e+07   2.44852221e+06]\n",
      "[ 71507993.32793432  -1096810.61350565  29867403.30104369\n",
      "  34960468.22652747  -1898989.1201084  -20946466.81720556   6776935.10198\n",
      "   7791988.92702747 -22766594.96111529  12225399.73166616\n",
      "  24281139.58567158   3639546.74602953 -56376884.63425809\n",
      "   2447112.57615298]\n",
      "[ 71607446.03297202  -2127010.69800525  30024904.32087585  36122808.9024134\n",
      "  -1901180.52018019 -20460515.27317083   6765921.61624515\n",
      "   7757017.44012918 -22137145.33910011  11821758.13987932\n",
      "  23687686.06191425   3541171.81580899 -56761679.89577081\n",
      "   2447633.56908136]\n",
      "[ 71707476.45575932  -3130194.86727888  30123192.01053525\n",
      "  37278789.43142118  -1904207.673851   -19989672.3702074    6754453.00797374\n",
      "   7727754.55019864 -21472607.46944636  11420911.58590719\n",
      "  23073634.14840518   3434431.58705457 -57112992.11137698\n",
      "   2449735.40807746]\n",
      "[ 71807883.68375163  -4103319.3436993   30169164.36499813  38428929.1110798\n",
      "  -1908040.69718753 -19536622.91188917   6742743.52085964\n",
      "   7702941.21793993 -20781972.2650038   11027750.08524467\n",
      "  22445136.50844352   3320318.68613732 -57439766.6959466    2453123.83675792]\n",
      "[ 71908496.69267984  -5044288.44894749  30168953.0198625   39573335.43859804\n",
      "  -1912627.42476488 -19102936.66013483   6730959.66105101\n",
      "   7681575.32964607 -20072957.66457633  10646185.39523177\n",
      "  21807016.39374477   3199760.50048469 -57749134.53302303\n",
      "   2457551.52923475]\n",
      "[ 72009170.55143854  -5951763.78746076  30128008.5431815   40711819.35665142\n",
      "  -1917900.8245107  -18689342.16182942   6719230.92084649\n",
      "   7662861.83948121 -19352156.66199186  10279307.94041347\n",
      "  21163025.11242399   3073615.97042112 -58046746.40090057\n",
      "   2462810.93349089]\n",
      "[ 72109783.02585493  -6825007.81399694  30051176.99663519\n",
      "  41843985.92834194  -1923784.88639399 -18295944.20349887\n",
      "   6707657.36027255   7646173.09554801 -18625171.9376781    9929520.37553371\n",
      "  20516053.31449617   2942674.02292738 -58337049.11007566   2468728.1953634 ]\n",
      "[ 72210231.5777705   -7663755.93285041  29942768.41378569\n",
      "  42969305.09612102  -1930199.1771156  -17922395.53736119   6696315.3634225\n",
      "   7631016.68485558 -17896737.32552228   9598651.06520735\n",
      "  19868303.86655199   2807653.78801218 -58623513.26230513\n",
      "   2475157.98640223]\n",
      "[ 72310430.72486706  -8468112.24387583  29806617.87108384  44087166.344997\n",
      "  -1937062.270082   -17568031.55609087   6685262.20370015\n",
      "   7617009.17288428 -17170826.78634567   9288050.34310626\n",
      "  19221432.87185844   2669206.29366251 -58908820.76424246\n",
      "   2481979.09901701]\n",
      "[ 72410309.72480905  -9238464.85221383  29646139.81854524\n",
      "  45196920.40781931  -1944294.25904624 -17231975.0251641    6674539.74367288\n",
      "   7603854.61420989 -16450751.73715351   8998672.03266938\n",
      "  18576664.33760457   2527917.25955139 -59195018.86472005\n",
      "   2489090.69657604]\n",
      "[ 72509810.54871772  -9975417.33053196  29464376.31052478\n",
      "  46297910.58688644  -1951818.54116966 -16913216.70467712\n",
      "   6664177.46027324   7591326.98008155 -15739247.64810176\n",
      "   8731142.37324311  17934883.09177159   2384310.64533297\n",
      " -59483646.37770002   2496409.12382798]\n",
      "[ 72608886.11146474 -10679733.48748686  29264039.74139136\n",
      "  47389495.79932927  -1959563.02627197 -16610676.64109988\n",
      "   6654194.92457706   7579255.81858114 -15038550.82682288   8485818.1991567\n",
      "  17296709.79104003   2238852.67143904 -59775836.83247107\n",
      "   2503865.19686615]\n",
      "[ 72707498.72909585 -11352293.07115437  29047550.65053212\n",
      "  48471067.06694318  -1967460.90110953 -16323250.03987653\n",
      "   6644603.83352102   7567514.58538889 -14350466.28809294\n",
      "   8262835.96095784  16662561.21951643   2091956.09167103\n",
      " -60072402.52013766   2511401.90326693]\n",
      "[ 72805618.77654581 -11994056.43534169  28817071.11860287\n",
      "  49542058.85099639  -1975451.05307456 -16049840.91002428\n",
      "   6635409.67133346   7556011.17905178 -13676427.56818978\n",
      "   8062152.95373988  16032698.53845614   1943984.54992764\n",
      " -60373902.75503318   2518972.45271993]\n",
      "[ 72903223.5215373  -12606036.53169867  28574534.2339876   50601956.36800332\n",
      "  -1983478.23712937 -15789386.07660436   6626613.06451351\n",
      "   7544680.29287885 -13017549.29459565   7883581.92316246\n",
      "  15407265.69422168   1795256.89694722 -60680699.12182864\n",
      "   2526538.62680302]\n",
      "[ 73000296.113112   -13189276.87129992  28321670.06619969\n",
      "  51650299.80431405  -1991493.05277319 -15540871.66541562\n",
      "   6618210.88333995   7533477.26056072 -12374673.26731058   7726820.0517148\n",
      "  14786319.81217839   1646051.37780213 -60993000.01792762\n",
      "   2534069.38376281]\n",
      "[ 73096824.70559874 -13744834.33430013  28060028.54224622\n",
      "  52686686.16791668  -1999451.78390123 -15303343.75924984\n",
      "   6610197.13405242   7522373.12694213 -11748408.75096177\n",
      "   7591473.18267912  14169855.08672653   1496609.62836384\n",
      " -61310896.41295965   2541539.68040054]\n",
      "[ 73192801.70097937 -14273765.90253691  27790999.58331858\n",
      "  53710769.36859236  -2007316.14306675 -15075914.59210301\n",
      "   6602563.67850633   7511350.72090003 -11139167.61924639\n",
      "   7477076.01417831  13557821.41250646   1347140.44036127\n",
      " -61634390.42156368   2548929.47856301]\n",
      "[ 73288223.09456962 -14777118.55365183  27515830.82290228\n",
      "  54722258.99706231  -2015052.952461   -14857765.37474032\n",
      "   6595300.81196111   7500401.54542259 -10547194.93654713\n",
      "   7383108.88803236  12950138.78074577   1197823.27112155\n",
      " -61963418.01262706   2556222.90840373]\n",
      "[ 73383087.91070148 -15255921.69159213  27235643.19370117\n",
      "  55720918.17545418  -2022633.78650825 -14648146.62179716\n",
      "   6588397.72450814   7489523.33191072  -9972595.50687644\n",
      "   7309011.70561151  12346708.28074054   1048811.48657816\n",
      " -62297866.94957238   2563407.56460817]\n",
      "[ 73477397.71668258 -15711181.60161995  26951444.63972181\n",
      "  56706560.77147162  -2030034.59501785 -14446376.6686427    6581842.86732317\n",
      "   7478718.1324117   -9415356.86835429   7254195.42344638\n",
      "  11747420.39364028    900235.33545501 -62637590.86523266   2570473.9152479 ]\n",
      "[ 73571156.20473254 -16143877.51190468  26664142.18145379\n",
      "  57679048.20387433  -2037235.3210786  -14251838.91840222\n",
      "   6575624.24130455   7467990.84576806  -8875369.16266311\n",
      "   7218051.51327334  11152161.13901151    752204.65934119\n",
      " -62982420.21543454   2577414.80591684]\n",
      "[ 73664368.83286572 -16554958.92154342  26374552.53624393\n",
      "  58638286.01460131  -2044219.52410384 -14063978.23986859\n",
      "   6569729.62262649   7457348.09222278  -8352442.26360706   7199959.7129157\n",
      "  10560816.52983626    604811.3481955  -63332170.72261176\n",
      "   2584225.04437096]\n",
      "[ 73757042.51682    -16945343.91909357  26083411.47258896\n",
      "  59584220.34086725  -2050974.01545583 -13882296.84055664\n",
      "   6564146.73720121   7446797.36645616  -7846320.50713589\n",
      "   7199294.34458169   9973275.70507339    458131.55409456\n",
      " -63686649.81035417   2590901.05309673]\n",
      "[ 73849185.36613175 -17315918.26864485  25791382.05602473\n",
      "  60516834.38698482  -2057488.511746   -13706349.86172273\n",
      "   6558863.39392883   7436346.41184208  -7356695.32696995\n",
      "   7215429.43462849   9389433.03764458    312227.67811533\n",
      " -64045661.43816214   2597440.57912324]\n",
      "[ 73940806.45834246 -17667535.08398623  25499061.92541968\n",
      "  61436144.96897267  -2063755.30909857 -13535740.88034144\n",
      "   6553867.58485168   7426002.7693254   -6883216.06519472\n",
      "   7247742.83257818   8809189.45715784    167150.14640229\n",
      " -64409009.66978168   2603842.45200959]\n",
      "[  7.40319156e+07  -1.80010149e+07   2.52069897e+07   6.23421992e+07\n",
      "  -2.06976898e+06  -1.33701175e+07   6.54914756e+06   7.41577346e+06\n",
      "  -6.42549920e+06   7.29561950e+06   8.23245318e+06   2.29389919e+04\n",
      "  -6.47765012e+07   2.61010638e+06]\n",
      "[ 74122523.39262743 -18317146.35656348  24915650.77540826  63235071.2396262\n",
      "  -2075526.09552364 -13209166.80547763   6544691.87441141\n",
      "   7405664.79248273  -5983136.17031679   7358454.08396987\n",
      "   7659139.98989247   -110374.74150683 -65153424.07543663\n",
      "   2615630.67589748]\n",
      "[ 74212745.76392218 -18617354.98720229  24625310.89272811\n",
      "  64114180.54186894  -2080623.03938879 -13050643.25639898\n",
      "   6539829.62417301   7393705.33220502  -5555841.01593174\n",
      "   7435735.21389072   7089598.40885847   -249076.06865601 -65530894.8448007\n",
      "   2621648.06166946]\n",
      "[ 74302363.05652422 -18901869.18957837  24336470.90538795\n",
      "  64980218.80861063  -2085589.65565365 -12895864.52383379   6536373.161289\n",
      "   7382690.72804019  -5143421.28800942   7526752.30305831\n",
      "   6523424.16029725   -388829.46520247 -65910878.6359024    2627489.15088229]\n",
      "[ 74391525.42230533 -19171254.38632728  24049440.17744336\n",
      "  65833410.25804015  -2090409.10990521 -12744985.40987974\n",
      "   6533002.49768361   7372479.98725948  -4745037.21640521\n",
      "   7630912.54194358   5960469.12518533   -528318.3054093  -66293869.74784499\n",
      "   2633188.96611092]\n",
      "[ 74480238.30673443 -19426136.32962462  23764534.05617961\n",
      "  66673932.03905244  -2095033.49425068 -12597933.79657922\n",
      "   6529650.15635451   7362718.8213967   -4360080.46894519\n",
      "   7747671.65637145   5400663.80861817   -667113.81947533\n",
      " -66679939.66085464   2638765.67528125]\n",
      "[ 74568509.71703587 -19667137.12113076  23482049.97397705  67501960.4430147\n",
      "  -2099435.52954722 -12454581.13903782   6526408.66093967\n",
      "   7353223.05262395  -3988064.7205905    7876510.03157467\n",
      "   4843963.58038867   -805069.29416589 -67069027.35220133\n",
      "   2644221.26183211]\n",
      "[ 74656350.77676027 -19894860.91920401  23202257.95921472\n",
      "  68317678.36383347  -2103605.0774201  -12314788.07383982\n",
      "   6523329.36642881   7343916.66289272  -3628549.82757876\n",
      "   8016924.95293104   4290332.49054387   -942133.51141466 -67461028.6244216\n",
      "   2649556.0087401 ]\n",
      "[ 74743772.98492685 -20109890.7137115   22925399.54018814\n",
      "  69121276.57021189  -2107540.79069869 -12178419.66254723\n",
      "   6520429.18703839   7334769.87668855  -3281112.73002091\n",
      "   8168428.30676651   3739738.2544363   -1078289.75322335\n",
      " -67855825.65193079   2654770.97804204]\n",
      "[ 74830787.72998871 -20312787.79349063  22651689.13189983\n",
      "  69912953.33990487  -2111245.24563622 -12045350.25627889\n",
      "   6517709.57601346   7325770.39042661  -2945338.24169249\n",
      "   8330546.06811191   3192150.66568286  -1213534.90721967 -68253297.3375583\n",
      "   2659867.88205567]\n",
      "[ 74917406.28334744 -20504091.9868795   22381316.00938134\n",
      "  70692913.56275886  -2114722.75997822 -11915464.46152622\n",
      "   6515166.16303775   7316912.12887554  -2620816.96584327\n",
      "   8502818.30534664   2647541.0746787   -1347871.99886589 -68653323.1364774\n",
      "   2664848.80104334]\n",
      "[ 75003639.81461029 -20684322.16637707  22114446.31937691\n",
      "  71461367.70213428  -2117978.49434992 -11788656.696869     6512792.62287543\n",
      "   7308191.11910478  -2307145.53398506   8684799.27422959\n",
      "   2105882.18439802  -1481307.35771914 -69055784.54672271\n",
      "   2669716.02246067]\n",
      "[ 75089499.38431069 -20853976.85632771  21851224.9769912   72218530.76129448\n",
      "  -2121018.07709346 -11664830.29769246   6510582.10689959\n",
      "   7299604.01723614  -2003927.47702856   8876057.46814336\n",
      "   1567147.92609813  -1613849.42165727 -69460565.71959694\n",
      "   2674471.95840308]\n",
      "[ 75174995.92585112 -21013534.88298353  21591777.4118281   72964621.30759689\n",
      "  -2123847.43032275 -11543896.5247917    6508527.75415343\n",
      "   7291147.59367117  -1710774.15915816   9076175.59225551\n",
      "   1031313.34443918  -1745508.13928741 -69867553.71122716\n",
      "   2679119.09921613]\n",
      "[ 75260140.22554399 -21163456.03990934  21336211.16423777\n",
      "  73699860.57140894  -2126472.67336432 -11425773.60449408\n",
      "   6506622.86888364   7282818.56180737  -1427305.59766117\n",
      "   9284750.46235664    498354.47588148  -1876294.6051599  -70276638.57122849\n",
      "   2683659.98354334]\n",
      "[  7.53449429e+07  -2.13041818e+07   2.10846173e+07   7.44244716e+07\n",
      "  -2.12890006e+06  -1.13103858e+07   6.50486098e+06   7.27461353e+06\n",
      "  -1.15315113e+06   9.50139284e+06  -2.17517791e+04  -2.01105327e+06\n",
      "  -7.06941681e+07   2.68827413e+06]\n",
      "[ 75429411.30791569 -21436342.97698662  20836700.89231292\n",
      "  75138474.53324296  -2131480.07109074 -11197917.39279987   6503344.9316429\n",
      "   7267258.73950085   -886863.29366964   9725175.46887968\n",
      "   -540426.17084752  -2140714.6437494  -71114320.98133764\n",
      "   2692498.46302133]\n",
      "[ 75513634.48468985 -21560513.36627839  20592554.9972471   75841867.53558542\n",
      "  -2133760.53722388 -11087618.03372085   6501447.31199506\n",
      "   7259422.85188969   -628269.61481586   9955940.56481084\n",
      "  -1057250.00438621  -2268204.18512724 -71535830.7454571    2696677.17660405]\n",
      "[ 75597547.88631392 -21677046.61355083  20352314.91557644\n",
      "  76534905.83488944  -2135764.76338326 -10979367.19552948\n",
      "   6499838.28453614   7251336.08311599   -377416.80551804  10193453.165914\n",
      "  -1572010.75900918  -2394432.4460601  -71958368.69165786\n",
      "   2700785.54760897]\n",
      "[ 75681163.63263835 -21786246.73877124  20116068.12640891\n",
      "  77217866.42409575  -2137542.19447457 -10873170.55632325   6498490.1230788\n",
      "   7243248.78284127   -134167.24073141  10437452.5479509   -2084576.01203041\n",
      "  -2519707.58462795 -72381861.88597679   2704814.06306583]\n",
      "[ 75764491.62824941 -21888405.86078609  19883875.72180126\n",
      "  77891021.55939506  -2139125.08317686 -10769059.71098114   6497316.7572788\n",
      "   7235270.71251612     91702.43935166  10697340.89965377\n",
      "  -2595200.11729959  -2643771.49972038 -72805946.73833805\n",
      "   2708628.71144236]\n",
      "[ 75847585.96069351 -21983944.33738017  19655499.74793557\n",
      "  78554535.15998907  -2140500.36443442 -10666987.43207751\n",
      "   6496227.13420275   7227291.62511828    311257.85793422\n",
      "  10962602.76455073  -3103696.40635846  -2766935.83491138\n",
      " -73230631.45669551   2712390.41585379]\n",
      "[ 75930419.80184761 -22073103.97058231  19431024.15374637\n",
      "  79208683.84135057  -2141700.65438589 -10567003.73520384   6495303.0616439\n",
      "   7219422.86331841    524604.76360785  11233042.68867885  -3609935.1046979\n",
      "  -2889330.23365991 -73655959.55169056   2716088.64403777]\n",
      "[ 76013001.33782326 -22156127.97878228  19210508.07775975\n",
      "  79853729.28740235  -2142745.07569664 -10469147.63408832\n",
      "   6494499.52938092   7211702.88040815    731905.28048696  11508457.2892498\n",
      "  -4113820.24229885  -3011005.8783218  -74081978.90748532\n",
      "   2719721.84155616]\n",
      "[ 76095337.26883684 -22233261.26594998  18993994.34271782\n",
      "  80489921.16621509  -2143645.82443206 -10373443.50241126\n",
      "   6493793.13763293   7204134.00783068    933339.09583687\n",
      "  11788639.86548852  -4615280.21105349  -3131986.58929822\n",
      " -74508723.87943563   2723289.64857873]\n",
      "[ 76177434.24353339 -22304748.84703742  18781512.08513321\n",
      "  81117498.39598769  -2144411.63585101 -10279900.94189081\n",
      "   6493173.62986269   7196706.53251972   1129091.77152765\n",
      "  12073382.91327845  -5114262.32972977  -3252286.41251874\n",
      " -74936211.91101554   2726791.87180917]\n",
      "[ 76259298.99182403 -22370834.16840227  18573078.36061361\n",
      "  81736690.36290801  -2145049.58385188 -10188516.60493549\n",
      "   6492635.81786232   7189407.99249122   1319350.29358088\n",
      "  12362479.75987415  -5610729.08012918  -3371915.78488671\n",
      " -75364444.70568328   2730228.52966835]\n",
      "[ 76340938.26474693 -22431757.64944782  18368699.4117819   82347718.01992661\n",
      "  -2145565.86884735 -10099276.5196534    6492176.24722065\n",
      "   7182226.28976445   1504301.07566581  12655725.75179621\n",
      "  -6104655.23354806  -3490883.75199017 -75793410.57496201\n",
      "   2733599.88929707]\n",
      "[ 76422358.78728779 -22487755.49384611  18168371.76993004\n",
      "  82950794.81605719  -2145966.15479275 -10012158.30006655\n",
      "   6491792.00339351   7175150.56967749   1684128.86098228\n",
      "  12952919.16860642  -6596025.55365908  -3609198.79064614\n",
      " -76223086.86927007   2736906.45421082]\n",
      "[ 76503567.22818039 -22539058.75221025  17972083.24610843\n",
      "  83546127.45663109  -2146255.72475711  -9927133.05044314\n",
      "   6491480.31442069   7168171.34357451   1859015.98827882\n",
      "  13253861.94049881  -7084832.92343186  -3726869.12730687\n",
      " -76653442.16382007   2740148.93324174]\n",
      "[ 76584570.17870477 -22585892.60245809  17779813.8337275   84133916.51490507\n",
      "  -2146439.56337874  -9844166.94030875   6491238.43331119\n",
      "   7161280.37675517   2029141.83399953  13558360.21196071\n",
      "  -7571076.80598701  -3843902.86769937 -77084438.12923363\n",
      "   2743328.20629067]\n",
      "[ 76665374.13640721 -22628475.81322153  17591536.53373502\n",
      "  84714356.91962633  -2146522.40751591  -9763222.48187082\n",
      "   6491063.61480033   7154470.52047126   2194682.36200134\n",
      "  13866224.77921848  -8054761.97683899  -3960308.05126888 -77516031.0995715\n",
      "   2746445.29237964]\n",
      "[ 76745985.49201688 -22667020.35904686  17407218.10960538  85287638.3416346\n",
      "  -2146508.78102829  -9684259.55463289   6490953.12172561\n",
      "   7147735.54637922   2355809.75359797  14177271.42232358  -8535897.4796113\n",
      "  -4076092.6726806  -77948173.37372485   2749501.32150905]\n",
      "[ 76826410.51877898 -22701731.16043618  17226819.77794063\n",
      "  85853945.49945185  -2146403.02027269  -9607236.22076532\n",
      "   6490904.23885814   7141070.00026177   2512692.10493333\n",
      "  14491321.14879413  -9014495.76664537  -4191264.68711371\n",
      " -78380814.28929593   2752497.51043276]\n",
      "[ 76906655.36378199 -22732805.92592112  17050297.83983898\n",
      "  86413458.40054409  -2146209.29340626  -9532109.36947599\n",
      "   6490914.28690769   7134469.07782754   2665493.18360223\n",
      "  14808200.36300473  -9490571.99275602  -4305832.00671047\n",
      " -78813901.10499795   2755435.14202632]\n",
      "[ 76986726.04099557 -22760435.07702912  16877604.25779439\n",
      "  86966352.53199017  -2145931.6152133   -9458835.22266707   6490980.6345628\n",
      "   7127928.52098279   2814372.23818801  15127740.9733977   -9964143.43577953\n",
      "  -4419802.49191581 -79247379.72294848   2758315.54781859]\n",
      "[ 77066628.42579721 -22784801.74015909  16708687.18257259\n",
      "  87512799.01176392  -2145573.85856725  -9387369.72867305\n",
      "   6491100.70816523   7121444.53184099   2959483.85510592\n",
      "  15449780.44783242 -10435229.02197643  -4533183.9398954  -79681195.27757841\n",
      "   2761140.09326294]\n",
      "[ 77146368.25080033 -22806081.79206013  16543491.4342096   88052964.70971426\n",
      "  -2145139.76332717  -9317668.86612676   6491271.99917145\n",
      "   7115013.70169537   3100977.85755182  15774161.82589529\n",
      " -10903848.93802218  -4645984.071459   -80115292.61369497\n",
      "   2763910.16536367]\n",
      "[ 77225951.10281791 -22824443.9478665   16381958.94098557\n",
      "  88587012.34556451  -2144632.94327624  -9249688.87599682   6491492.0697005\n",
      "   7108632.95246389   3238999.24169156  16100733.69570861 -11370024.314388\n",
      "  -4758210.5174735  -80549616.6726173    2766627.16231942]\n",
      "[ 77305382.42081602 -22840049.88254021  16224029.13993886\n",
      "  89115100.56979692  -2144056.89157609  -9183386.43650497\n",
      "   6491758.55647912   7102299.48846795   3373688.14555889\n",
      "  16429350.14166932 -11833776.96748447  -4869870.80545827\n",
      " -80984112.80221927   2769292.48489026]\n",
      "[ 77384667.49472602 -22853054.37816529  16069639.34220595\n",
      "  89637384.03209044  -2143414.98510857  -9118718.79286843\n",
      "   6492069.17346518   7096010.75674138   3505179.84646802\n",
      "  16759870.66859281 -12295129.19009214  -4980972.34684455\n",
      " -81418727.00410534   2771907.5292349 ]\n",
      "[ 77463811.46500005 -22863605.49087042  15918725.06620475\n",
      "  90154013.44099897  -2142710.48799702  -9055643.85153357\n",
      "   6492421.71339144   7089764.41436184   3633604.78309203\n",
      "  17092160.10691385 -12754103.58140295  -5091522.4252235  -81853406.12894706\n",
      "   2774473.68099983]\n",
      "[ 77542819.32280599 -22871844.73227048  15771220.34142497\n",
      "  90665135.61775583  -2141946.55453485  -8994120.24669273\n",
      "   6492814.04843412   7083558.30154976   3759088.59869993\n",
      "  17426088.50288771 -13210722.90949969  -5201528.18578807\n",
      " -82288098.02916053   2776992.31047348]\n",
      "[ 77621695.91077127 -22877907.26124712  15627057.98535056\n",
      "  91170893.54643801  -2141126.23169793  -8934107.38533819\n",
      "   6493244.13017707   7077390.41949347   3881752.20237833\n",
      "  17761530.99712487 -13665010.00035387  -5310996.62608341 -82722751.6765538\n",
      "   2779464.76864428]\n",
      "[ 77700445.92419416 -22881922.08266111  15486169.85581691\n",
      "  91671426.42219631  -2140252.46137636  -8875565.47585076   6493709.989014\n",
      "   7071258.91203887   4001711.845383    18098367.69427007\n",
      " -14116987.64846646  -5419934.58811258 -83157317.25127508\n",
      "   2781892.38402544]\n",
      "[ 77779073.91265215 -22884012.25023361  15348487.08089997\n",
      "  92166869.69883084  -2139328.0824278   -8818455.54409496\n",
      "   6494209.73310655   7065162.05053197   4119079.21006765\n",
      "  18436483.52618778 -14566678.54514349  -5528348.75179429\n",
      " -83591746.20730527   2784276.46012858]\n"
     ]
    }
   ],
   "source": [
    "l1_penalty=1e4\n",
    "initial_weights = np.zeros(len(normalized_feature_matrix[0]))\n",
    "tolerance = 5e5\n",
    "weights1e4 = lasso_cyclical_coordinate_descent(normalized_feature_matrix, output,\n",
    "                                            initial_weights, l1_penalty, tolerance)"
   ]
  },
  {
   "cell_type": "code",
   "execution_count": 258,
   "metadata": {
    "collapsed": false
   },
   "outputs": [
    {
     "name": "stdout",
     "output_type": "stream",
     "text": [
      "307.261389954\n"
     ]
    }
   ],
   "source": [
    "print (weights1e4/norms)[3]"
   ]
  },
  {
   "cell_type": "markdown",
   "metadata": {},
   "source": [
    "***QUIZ QUESTION***\n",
    "\n",
    "What features had non-zero weight in this case?"
   ]
  },
  {
   "cell_type": "markdown",
   "metadata": {},
   "source": [
    "## Rescaling learned weights"
   ]
  },
  {
   "cell_type": "markdown",
   "metadata": {},
   "source": [
    "Recall that we normalized our feature matrix, before learning the weights.  To use these weights on a test set, we must normalize the test data in the same way.\n",
    "\n",
    "Alternatively, we can rescale the learned weights to include the normalization, so we never have to worry about normalizing the test data: \n",
    "\n",
    "In this case, we must scale the resulting weights so that we can make predictions with *original* features:\n",
    " 1. Store the norms of the original features to a vector called `norms`:\n",
    "```\n",
    "features, norms = normalize_features(features)\n",
    "```\n",
    " 2. Run Lasso on the normalized features and obtain a `weights` vector\n",
    " 3. Compute the weights for the original features by performing element-wise division, i.e.\n",
    "```\n",
    "weights_normalized = weights / norms\n",
    "```\n",
    "Now, we can apply `weights_normalized` to the test data, without normalizing it!"
   ]
  },
  {
   "cell_type": "markdown",
   "metadata": {},
   "source": [
    "Create a normalized version of each of the weights learned above. (`weights1e4`, `weights1e7`, `weights1e8`)."
   ]
  },
  {
   "cell_type": "code",
   "execution_count": 259,
   "metadata": {
    "collapsed": false
   },
   "outputs": [],
   "source": [
    "normalized_weights1e7 = weights1e7/norms\n",
    "normalized_weights1e8 = weights1e8/norms\n",
    "normalized_weights1e4 = weights1e4/norms"
   ]
  },
  {
   "cell_type": "markdown",
   "metadata": {},
   "source": [
    "To check your results, if you call `normalized_weights1e7` the normalized version of `weights1e7`, then:\n",
    "```\n",
    "print normalized_weights1e7[3]\n",
    "```\n",
    "should return 161.31745624837794."
   ]
  },
  {
   "cell_type": "markdown",
   "metadata": {},
   "source": [
    "## Evaluating each of the learned models on the test data"
   ]
  },
  {
   "cell_type": "markdown",
   "metadata": {},
   "source": [
    "Let's now evaluate the three models on the test data:"
   ]
  },
  {
   "cell_type": "code",
   "execution_count": 260,
   "metadata": {
    "collapsed": true
   },
   "outputs": [],
   "source": [
    "(test_feature_matrix, test_output) = get_numpy_data(test_data, all_features, 'price')"
   ]
  },
  {
   "cell_type": "markdown",
   "metadata": {},
   "source": [
    "Compute the RSS of each of the three normalized weights on the (unnormalized) `test_feature_matrix`:"
   ]
  },
  {
   "cell_type": "code",
   "execution_count": 262,
   "metadata": {
    "collapsed": false
   },
   "outputs": [
    {
     "name": "stdout",
     "output_type": "stream",
     "text": [
      "2.2778100476e+14\n",
      "2.75962078597e+14\n",
      "5.37166150034e+14\n"
     ]
    }
   ],
   "source": [
    "for weight in (normalized_weights1e4, normalized_weights1e7, normalized_weights1e8):\n",
    "    prediction = predict_output(test_feature_matrix, weight)\n",
    "    RSS = ((test_output-prediction)**2).sum()\n",
    "    print RSS"
   ]
  },
  {
   "cell_type": "code",
   "execution_count": null,
   "metadata": {
    "collapsed": true
   },
   "outputs": [],
   "source": []
  },
  {
   "cell_type": "code",
   "execution_count": null,
   "metadata": {
    "collapsed": true
   },
   "outputs": [],
   "source": []
  },
  {
   "cell_type": "markdown",
   "metadata": {},
   "source": [
    "***QUIZ QUESTION***\n",
    "\n",
    "Which model performed best on the test data?"
   ]
  }
 ],
 "metadata": {
  "kernelspec": {
   "display_name": "Python 2",
   "language": "python",
   "name": "python2"
  },
  "language_info": {
   "codemirror_mode": {
    "name": "ipython",
    "version": 2
   },
   "file_extension": ".py",
   "mimetype": "text/x-python",
   "name": "python",
   "nbconvert_exporter": "python",
   "pygments_lexer": "ipython2",
   "version": "2.7.11"
  }
 },
 "nbformat": 4,
 "nbformat_minor": 0
}
